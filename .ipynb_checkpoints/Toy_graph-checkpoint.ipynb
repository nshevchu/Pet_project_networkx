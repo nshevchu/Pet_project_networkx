{
 "cells": [
  {
   "cell_type": "code",
   "execution_count": 2,
   "id": "5c377f55",
   "metadata": {},
   "outputs": [],
   "source": [
    "import networkx as nx\n",
    "import matplotlib.pyplot as plt\n",
    "import logging\n"
   ]
  },
  {
   "cell_type": "code",
   "execution_count": 74,
   "id": "ce4255df",
   "metadata": {},
   "outputs": [
    {
     "name": "stderr",
     "output_type": "stream",
     "text": [
      "INFO:root:1\n",
      "INFO:root:5\n",
      "INFO:root:4\n",
      "INFO:root:5\n"
     ]
    },
    {
     "data": {
      "image/png": "[encoded data removed]",
      "text/plain": [
       "<Figure size 432x288 with 1 Axes>"
      ]
     },
     "metadata": {},
     "output_type": "display_data"
    }
   ],
   "source": [
    "logging.basicConfig(level=logging.INFO)\n",
    "\n",
    "logging.info('1')\n",
    "\n",
    "G = nx.Graph()\n",
    "\n",
    "nodes = [i for i in range(20)]\n",
    "\n",
    "\n",
    "G.add_nodes_from(nodes)\n",
    "G.add_edges_from([(1, 2, {'fc':True, 'weight': 10}), (1, 3), (4,1)])\n",
    "\n",
    "G.add_edges_from([(11, 5, {'fc':True, 'weight': 10}), (5, 8, {'weight': 20}),\n",
    "                  (5,0, {'weight': 50}),\n",
    "                  (5,17, {'weight': 20}),\n",
    "                  (18,17),\n",
    "                  (5,18, {'weight': 10}),\n",
    "                  (0,18, {'weight': 5}),\n",
    "                  (8,13, {'fc':True, 'weight': 10})])\n",
    "\n",
    "G.add_edges_from([(12, 10, {'fc':True, 'weight': 10}), (10, 14), (7,14), (6,9)])\n",
    "\n",
    "logging.info('5')\n",
    "#nx.draw_networkx_nodes(G, node_size=10, node_color='r')\n",
    "logging.info('4')\n",
    "\n",
    "edges = G.edges()\n",
    "\n",
    "colors=[]\n",
    "weights=[]\n",
    "for u,v in edges:\n",
    "    color='r'\n",
    "    weight = 1\n",
    "    if 'fc' in G[u][v]:\n",
    "        if G[u][v]['fc']:\n",
    "            color='b'\n",
    "    if 'weight' in G[u][v]:\n",
    "        if G[u][v]['weight']:\n",
    "            weight=G[u][v]['weight']\n",
    "    colors.append(color)\n",
    "    weights.append(weight)\n",
    "            \n",
    "    \n",
    "\n",
    "nx.draw(G, with_labels=True, font_weight='bold', edge_color=colors, width=weights)\n",
    "#nx.draw_networkx_edges(G,  edge_color='b')\n",
    "logging.info('5')\n",
    "\n",
    "plt.show()"
   ]
  },
  {
   "cell_type": "code",
   "execution_count": 75,
   "id": "643451ee",
   "metadata": {},
   "outputs": [
    {
     "name": "stdout",
     "output_type": "stream",
     "text": [
      "[{0, 5, 8, 11, 13, 17, 18}, {1, 2, 3, 4}, {9, 6}, {10, 12, 14, 7}, {15}, {16}, {19}]\n"
     ]
    }
   ],
   "source": [
    "components = list(nx.connected_components(G))\n",
    "print(components)"
   ]
  },
  {
   "cell_type": "code",
   "execution_count": 87,
   "id": "094d90e7",
   "metadata": {},
   "outputs": [
    {
     "name": "stdout",
     "output_type": "stream",
     "text": [
      "[600, 200, 200, 200]\n",
      "1 2\n",
      "!\n",
      "1 3\n",
      "1 4\n",
      "{(1, 2): 10}\n",
      "[(1, 2)]\n"
     ]
    },
    {
     "data": {
      "image/png": "[encoded data removed]",
      "text/plain": [
       "<Figure size 432x288 with 1 Axes>"
      ]
     },
     "metadata": {},
     "output_type": "display_data"
    }
   ],
   "source": [
    "H = G.subgraph(components[1])\n",
    "\n",
    "deg = nx.degree(H)\n",
    "sizes = [200 * deg[i] for i in H.nodes]\n",
    "print(sizes)\n",
    "\n",
    "edges = H.edges()\n",
    "colors=[]\n",
    "weights=[]\n",
    "pairs=[]\n",
    "for u,v in edges:\n",
    "    print(u,v)\n",
    "    color='r'\n",
    "    weight = 1\n",
    "    if 'fc' in G[u][v]:\n",
    "        print('!')\n",
    "        pairs.append((u, v))\n",
    "        if G[u][v]['fc']:\n",
    "            color='b'\n",
    "    if 'weight' in G[u][v]:\n",
    "        if G[u][v]['weight']:\n",
    "            weight=G[u][v]['weight']\n",
    "    colors.append(color)\n",
    "    weights.append(weight)\n",
    "    \n",
    "labels = nx.get_edge_attributes(H, 'weight')\n",
    "print(labels)\n",
    "print(pairs)\n",
    "nx.draw(H, with_labels=True, font_weight='bold', edge_color=colors, width=weights, node_size=sizes)\n",
    "#nx.draw_networkx_edges(G,  edge_color='b')\n",
    "\n",
    "plt.show()"
   ]
  },
  {
   "cell_type": "code",
   "execution_count": 88,
   "id": "cc158178",
   "metadata": {},
   "outputs": [
    {
     "name": "stdout",
     "output_type": "stream",
     "text": [
      "[]\n"
     ]
    }
   ],
   "source": [
    "from itertools import combinations\n",
    "combos=list(combinations(pairs, 2))\n",
    "print(combos)\n",
    "path=[]\n",
    "for pair in combos:\n",
    "    path=nx.shortest_path(H, source=pair[0][0], target=pair[1][0], weight='weight')\n",
    "    path.append(pair[0][1])\n",
    "    path.append(pair[1][1])\n",
    "    print(path)"
   ]
  },
  {
   "cell_type": "code",
   "execution_count": 90,
   "id": "8ebdff4f",
   "metadata": {},
   "outputs": [
    {
     "data": {
      "image/png": "[encoded data removed]",
      "text/plain": [
       "<Figure size 432x288 with 1 Axes>"
      ]
     },
     "metadata": {},
     "output_type": "display_data"
    }
   ],
   "source": [
    "H1 = G.subgraph(path)\n",
    "nx.draw(H1, with_labels=True)"
   ]
  },
  {
   "cell_type": "code",
   "execution_count": null,
   "id": "2c201a53",
   "metadata": {},
   "outputs": [],
   "source": []
  }
 ],
 "metadata": {
  "kernelspec": {
   "display_name": "venv_networkx",
   "language": "python",
   "name": "venv_networkx"
  },
  "language_info": {
   "codemirror_mode": {
    "name": "ipython",
    "version": 3
   },
   "file_extension": ".py",
   "mimetype": "text/x-python",
   "name": "python",
   "nbconvert_exporter": "python",
   "pygments_lexer": "ipython3",
   "version": "3.8.10"
  }
 },
 "nbformat": 4,
 "nbformat_minor": 5
}
